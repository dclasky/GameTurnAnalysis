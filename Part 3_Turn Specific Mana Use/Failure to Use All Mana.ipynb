{
 "cells": [
  {
   "cell_type": "code",
   "execution_count": null,
   "id": "1ba964e1-6cc8-4ac1-a376-60bf77b3cef6",
   "metadata": {},
   "outputs": [],
   "source": [
    "import pandas as pd\n",
    "\n",
    "chunk_size = 1000\n",
    "\n",
    "file_path = '../replay_data_public.WOE.PremierDraft.csv'\n",
    "\n",
    "# Initialize a dictionary to store mana usage patterns and win counts\n",
    "mana_usage_patterns = {}\n",
    "\n",
    "# Function to check mana usage for a single player\n",
    "def classify_mana_usage(row, player_prefix, max_turns):\n",
    "    pattern = []\n",
    "    for i in range(1, max_turns + 1):\n",
    "        mana_spent = row[f'user_turn_{i}_{player_prefix}_mana_spent'] + row[f'oppo_turn_{i}_{player_prefix}_mana_spent']\n",
    "        if mana_spent < i:\n",
    "            pattern.append(f'did not maximize mana on turn {i}')\n",
    "    return ', '.join(pattern) if pattern else 'Maximized mana every turn'\n",
    "\n",
    "# Create an iterator to read in chunks\n",
    "chunk_iter = pd.read_csv(file_path, chunksize=chunk_size)\n",
    "\n",
    "for chunk in chunk_iter:\n",
    "    for index, row in chunk.iterrows():\n",
    "        max_turns = min(row['num_turns'], 5)  # Consider up to turn 5 or num_turns, whichever is smaller\n",
    "\n",
    "        # Classify for user\n",
    "        user_pattern = classify_mana_usage(row, 'user', max_turns)\n",
    "        if user_pattern not in mana_usage_patterns:\n",
    "            mana_usage_patterns[user_pattern] = {'wins': 0, 'total': 0}\n",
    "        mana_usage_patterns[user_pattern]['total'] += 1\n",
    "        if row['won']:\n",
    "            mana_usage_patterns[user_pattern]['wins'] += 1\n",
    "\n",
    "        # Classify for opponent\n",
    "        oppo_pattern = classify_mana_usage(row, 'oppo', max_turns)\n",
    "        if oppo_pattern not in mana_usage_patterns:\n",
    "            mana_usage_patterns[oppo_pattern] = {'wins': 0, 'total': 0}\n",
    "        mana_usage_patterns[oppo_pattern]['total'] += 1\n",
    "        if not row['won']:\n",
    "            mana_usage_patterns[oppo_pattern]['wins'] += 1\n",
    "    \n",
    "\n",
    "# Calculate win rates for each pattern\n",
    "for pattern, data in mana_usage_patterns.items():\n",
    "    data['win_rate'] = data['wins'] / data['total'] if data['total'] > 0 else 0\n",
    "\n",
    "# Convert the results to a DataFrame for display\n",
    "results_df = pd.DataFrame.from_dict(mana_usage_patterns, orient='index')\n",
    "\n",
    "pd.set_option('display.max_rows', None)  # Set to None to display all rows\n",
    "print(results_df)\n",
    "pd.reset_option('display.max_rows')\n"
   ]
  },
  {
   "cell_type": "code",
   "execution_count": null,
   "id": "2b13b92d-b0a7-4511-b191-5f1998985155",
   "metadata": {},
   "outputs": [],
   "source": []
  }
 ],
 "metadata": {
  "kernelspec": {
   "display_name": "Python 3 (ipykernel)",
   "language": "python",
   "name": "python3"
  },
  "language_info": {
   "codemirror_mode": {
    "name": "ipython",
    "version": 3
   },
   "file_extension": ".py",
   "mimetype": "text/x-python",
   "name": "python",
   "nbconvert_exporter": "python",
   "pygments_lexer": "ipython3",
   "version": "3.12.0"
  }
 },
 "nbformat": 4,
 "nbformat_minor": 5
}
