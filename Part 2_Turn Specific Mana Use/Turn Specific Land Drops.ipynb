{
 "cells": [
  {
   "cell_type": "code",
   "execution_count": 17,
   "id": "248540fe-d137-4aeb-a4bd-a2693034dece",
   "metadata": {},
   "outputs": [
    {
     "name": "stderr",
     "output_type": "stream",
     "text": [
      "C:\\Users\\dclas\\AppData\\Local\\Temp\\ipykernel_9492\\4050315232.py:23: DtypeWarning: Columns (30,67,91,93,94,96,126,129,131,150,157,161,163,167,173,189,192,194,199,204,219,221,225,234,237,252,253,255,256,261,263,266,267,268,283,284,285,289,291,293,295,298,299,301,317,320,331,332,347,348,362,363,364,365,380,395,397,411,415,417,429,444,447,448,459,460,461,475,476,481,492,493,508,509,523,524,525,539,540,543,545,547,557,575,576,587,588,604,609,613,618,619,620,621,639,640,642,652,653,667,671,675,684,702,703,706,715,732,739,741,746,747,749,764,768,769,770,778,779,780,795,798,800,805,807,810,830,831,833,834,837,838,839,842,843,859,862,864,869,871,874,897,901,902,903,907,922,923,926,933,935,939,941,956,958,959,961,962,965,967,970,971,986,990,992,994,995,997,998,999,1022,1025,1026,1027,1029,1030,1031,1034,1035,1050,1056,1058,1059,1061,1062,1063,1066,1088,1091,1092,1093,1095,1099,1104,1110,1114,1122,1123,1124,1125,1126,1127,1131,1136,1150,1154,1155,1156,1157,1159,1168,1186,1188,1189,1191,1200,1202,1203,1204,1205,1206,1207,1219,1220,1221,1223,1232,1234,1235,1236,1237,1238,1239,1264,1266,1267,1268,1269,1296,1298,1299,1300,1301,1328,1330,1331,1332,1333,1360,1362,1363,1364,1365,1375,1378,1394,1395,1396,1397,1424,1426,1427,1428,1429,1434,1442,1447,1458,1459,1460,1461,1490,1491,1492,1493,1498,1506,1511,1520,1522,1523,1524,1525,1554,1555,1556,1557,1562,1566,1570,1584,1586,1587,1588,1589,1590,1603,1616,1618,1619,1620,1621,1626,1631,1634,1648,1650,1651,1652,1653,1654,1668,1669,1671,1674,1680,1682,1683,1684,1685,1698,1700,1701,1703,1707,1712,1714,1715,1716,1718,1744,1746,1747,1748,1749,1750) have mixed types. Specify dtype option on import or set low_memory=False.\n",
      "  for chunk in chunk_iter:\n"
     ]
    },
    {
     "name": "stdout",
     "output_type": "stream",
     "text": [
      "                                             wins  total  win_rate\n",
      "No land missed                                621   1192  0.520973\n",
      "missed_turn_5                                 231    412  0.560680\n",
      "missed_turn_3, missed_turn_4, missed_turn_5     6     30  0.200000\n",
      "missed_turn_3                                  12     31  0.387097\n",
      "missed_turn_3, missed_turn_4                    7     19  0.368421\n",
      "missed_turn_4                                  61    124  0.491935\n",
      "missed_turn_4, missed_turn_5                   52    165  0.315152\n",
      "missed_turn_3, missed_turn_5                   10     25  0.400000\n",
      "missed_turn_2                                   0      2  0.000000\n"
     ]
    }
   ],
   "source": [
    "import pandas as pd\n",
    "\n",
    "# Define the chunk size\n",
    "chunk_size = 1000\n",
    "\n",
    "file_path = '../replay_data_public.WOE.PremierDraft.csv'\n",
    "\n",
    "# Initialize a dictionary to store land-miss patterns and win counts\n",
    "land_miss_patterns = {}\n",
    "\n",
    "# Function to check land plays for a single player and classify based on missed lands\n",
    "def classify_land_misses(row, player_prefix):\n",
    "    pattern = []\n",
    "    for i in range(1, 6):\n",
    "        if pd.isna(row[f'{player_prefix}_turn_{i}_lands_played']):\n",
    "            pattern.append(f'missed_turn_{i}')\n",
    "    return ', '.join(pattern) if pattern else 'No land missed'\n",
    "\n",
    "# Create an iterator to read in chunks\n",
    "chunk_iter = pd.read_csv(file_path, chunksize=chunk_size)\n",
    "\n",
    "# Process each chunk\n",
    "for chunk in chunk_iter:\n",
    "    for index, row in chunk.iterrows():\n",
    "        # Classify for user\n",
    "        user_pattern = classify_land_misses(row, 'user')\n",
    "        if user_pattern not in land_miss_patterns:\n",
    "            land_miss_patterns[user_pattern] = {'wins': 0, 'total': 0}\n",
    "        land_miss_patterns[user_pattern]['total'] += 1\n",
    "        if row['won']:\n",
    "            land_miss_patterns[user_pattern]['wins'] += 1\n",
    "\n",
    "        # Classify for opponent\n",
    "        oppo_pattern = classify_land_misses(row, 'oppo')\n",
    "        if oppo_pattern not in land_miss_patterns:\n",
    "            land_miss_patterns[oppo_pattern] = {'wins': 0, 'total': 0}\n",
    "        land_miss_patterns[oppo_pattern]['total'] += 1\n",
    "        if not row['won']:\n",
    "            land_miss_patterns[oppo_pattern]['wins'] += 1\n",
    "    break\n",
    "\n",
    "# Calculate win rates for each pattern\n",
    "for pattern, data in land_miss_patterns.items():\n",
    "    data['win_rate'] = data['wins'] / data['total'] if data['total'] > 0 else 0\n",
    "\n",
    "# Convert the results to a DataFrame for display\n",
    "results_df = pd.DataFrame.from_dict(land_miss_patterns, orient='index')\n",
    "print(results_df.head(20))\n",
    "\n"
   ]
  },
  {
   "cell_type": "code",
   "execution_count": null,
   "id": "98910e14-6a22-4fc9-98c2-4b2053aa1e74",
   "metadata": {},
   "outputs": [],
   "source": []
  },
  {
   "cell_type": "code",
   "execution_count": null,
   "id": "d2423413-0ced-464b-92b4-713e41acd478",
   "metadata": {},
   "outputs": [],
   "source": []
  }
 ],
 "metadata": {
  "kernelspec": {
   "display_name": "Python 3 (ipykernel)",
   "language": "python",
   "name": "python3"
  },
  "language_info": {
   "codemirror_mode": {
    "name": "ipython",
    "version": 3
   },
   "file_extension": ".py",
   "mimetype": "text/x-python",
   "name": "python",
   "nbconvert_exporter": "python",
   "pygments_lexer": "ipython3",
   "version": "3.12.0"
  }
 },
 "nbformat": 4,
 "nbformat_minor": 5
}
